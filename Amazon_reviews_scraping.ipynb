{
 "cells": [
  {
   "cell_type": "code",
   "execution_count": 1,
   "id": "d802843a",
   "metadata": {},
   "outputs": [],
   "source": [
    "from requests_html import HTMLSession\n",
    "import json\n",
    "import time"
   ]
  },
  {
   "cell_type": "code",
   "execution_count": 3,
   "id": "6eb2f9f4",
   "metadata": {},
   "outputs": [
    {
     "name": "stdout",
     "output_type": "stream",
     "text": [
      "getting page  1\n",
      "getting page  2\n",
      "no more pages\n"
     ]
    }
   ],
   "source": [
    "class Reviews:\n",
    "    def __init__(self,asin) -> None:\n",
    "        self.asin = asin\n",
    "        self.session = HTMLSession()\n",
    "        self.headers = {'Mozilla/5.0 (Macintosh; Intel Mac OS X 10_15_7) AppleWebKit/605.1.15 (KHTML, like Gecko) Version/15.2 Safari/605.1.15'}\n",
    "        self.url = f'https://www.amazon.co.uk/product-reviews/{self.asin}/ref=cm_cr_dp_d_show_all_btm?ie=UTF&reviewerType=all_reviews&sortBy=recent&pageNumber='\n",
    "    \n",
    "    def pagination(self,page):\n",
    "        r = self.session.get(self.url + str(page))\n",
    "        if not r.html.find('div[data-hook=review]'):\n",
    "            return False\n",
    "        else:\n",
    "            return r.html.find('div[data-hook=review]')\n",
    "    \n",
    "    def parse(self, reviews):\n",
    "        total = []\n",
    "        for review in reviews:\n",
    "            title = review.find('a[data-hook=review-title] span', first=True).text\n",
    "            rating = review.find('i[data-hook=review-star-rating] span', first=True).text\n",
    "            body = review.find('span[data-hook=review-body] span', first=True).text.replace('\\n','').strip()\n",
    "            \n",
    "            data = {\n",
    "                'title':title,\n",
    "                'rating':rating,\n",
    "                'body':body[:100]\n",
    "            }\n",
    "            total.append(data)\n",
    "        return total\n",
    "    \n",
    "    def save(self, results):\n",
    "        with open(self.asin + '-reviews.json', 'w') as f:\n",
    "            json.dump(results, f)\n",
    "    \n",
    "if __name__ == '__main__':\n",
    "    amz = Reviews('B0779B2K8B')\n",
    "    results = []\n",
    "    for x in range(1,5):\n",
    "        print('getting page ',x)\n",
    "        time.sleep(0.3)\n",
    "        reviews = amz.pagination(x)\n",
    "        if reviews is not False:\n",
    "            results.append(amz.parse(reviews))\n",
    "        else:\n",
    "            print('no more pages')\n",
    "            break\n",
    "    amz.save(results)"
   ]
  },
  {
   "cell_type": "code",
   "execution_count": null,
   "id": "edc128d0",
   "metadata": {},
   "outputs": [],
   "source": []
  }
 ],
 "metadata": {
  "kernelspec": {
   "display_name": "Python 3 (ipykernel)",
   "language": "python",
   "name": "python3"
  },
  "language_info": {
   "codemirror_mode": {
    "name": "ipython",
    "version": 3
   },
   "file_extension": ".py",
   "mimetype": "text/x-python",
   "name": "python",
   "nbconvert_exporter": "python",
   "pygments_lexer": "ipython3",
   "version": "3.9.7"
  }
 },
 "nbformat": 4,
 "nbformat_minor": 5
}
